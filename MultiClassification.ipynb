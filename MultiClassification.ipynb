{
  "nbformat": 4,
  "nbformat_minor": 0,
  "metadata": {
    "colab": {
      "name": "HW4(1).ipynb",
      "provenance": [],
      "collapsed_sections": []
    },
    "kernelspec": {
      "display_name": "Python 3",
      "language": "python",
      "name": "python3"
    }
  },
  "cells": [
    {
      "cell_type": "markdown",
      "metadata": {
        "id": "3-mD4Aan6ysx"
      },
      "source": [
        "<center>\n",
        "<h1> Assignment 4: Multi-Classification</h1>\n",
        "<hr>\n",
        "<h2> Handwritten Digits Image Classification </h2>\n",
        "<hr>\n",
        "<h3> MCIS 6283-Machine Learning </h3>\n",
        "\n",
        "<h3><mark>Due date: Mar 5th, 2019 (Tuesday)</mark></h3>\n",
        "<h3>Total Points: 100</h3>\n",
        "\n",
        "<h4>Instructor: Xin Yang</h4>\n",
        "\n",
        "\n",
        "</center>"
      ]
    },
    {
      "cell_type": "markdown",
      "metadata": {
        "id": "Kjhw0iW_6ys5"
      },
      "source": [
        "### Please put your name, student ID, date and time here \n",
        "* Name:\n",
        "* Student ID:\n",
        "* Date:\n",
        "* Time:"
      ]
    },
    {
      "cell_type": "markdown",
      "metadata": {
        "id": "DK7I6Y2w6ys_"
      },
      "source": [
        "* In this assignment, you will investigate the handwritten digits dataset.\n",
        "* Sample images:\n",
        "<img src=\"Mnist.png\">\n",
        "\n",
        "* Please apply the folowing eight methods to classify the handwritten digits dataset.\n",
        "* Split the dataset into training sets and test sets\n",
        "* Fit the training data sets to the following eight algorithms\n",
        "* Print the classification report on the test data sets\n",
        "\n",
        "<h4>Method 1: KNN</h4>\n",
        "<h4>Method 2: Linear SVM</h4>\n",
        "<h4>Method 3: Gaussian Kernel SVM</h4>\n",
        "<h4>Method 4: Naive Bayes</h4>\n",
        "<h4>Method 5: Decision Tree</h4>   \n",
        "<h4>Method 6: Random Forest</h4> \n",
        "<h4>Method 7: Voting Classifier</h4> \n",
        "<h4>Method 8: Bagging</h4> "
      ]
    },
    {
      "cell_type": "code",
      "metadata": {
        "id": "K3yeTSvy6ytJ"
      },
      "source": [
        "# Importing the dataset\n",
        "from sklearn.datasets import load_digits\n",
        "digits = load_digits()"
      ],
      "execution_count": null,
      "outputs": []
    },
    {
      "cell_type": "code",
      "metadata": {
        "id": "qJrSwZX16yto"
      },
      "source": [
        "X =  digits.data\n",
        "y =  digits.target"
      ],
      "execution_count": null,
      "outputs": []
    },
    {
      "cell_type": "markdown",
      "metadata": {
        "collapsed": true,
        "id": "3oUHsKik6yt3"
      },
      "source": [
        "## Step 1. Split the dataset into training data and testing data (<mark>10 points</mark>)"
      ]
    },
    {
      "cell_type": "code",
      "metadata": {
        "id": "HDeocf-26yuA"
      },
      "source": [
        "from sklearn.model_selection import train_test_split\n",
        "train_x,test_x,train_y,test_y = train_test_split(X,y,test_size=0.33, random_state=42)"
      ],
      "execution_count": null,
      "outputs": []
    },
    {
      "cell_type": "markdown",
      "metadata": {
        "id": "nJYeYdgr6yuO"
      },
      "source": [
        "## Step 2. Algorithm Analysis (<mark>80 points</mark>)"
      ]
    },
    {
      "cell_type": "markdown",
      "metadata": {
        "id": "QCH4HoHw6yuU"
      },
      "source": [
        "## Method 1. KNN"
      ]
    },
    {
      "cell_type": "code",
      "metadata": {
        "id": "uIoGYJWX6yuZ",
        "colab": {
          "base_uri": "https://localhost:8080/",
          "height": 70
        },
        "outputId": "a182c48c-d982-467f-d2c4-b92fda7ce925"
      },
      "source": [
        "from sklearn.neighbors import KNeighborsClassifier\n",
        "from sklearn.metrics import accuracy_score\n",
        "from sklearn.metrics import recall_score\n",
        "from sklearn.metrics import precision_score\n",
        "neigh = KNeighborsClassifier(n_neighbors=3)\n",
        "neigh.fit(train_x, train_y) \n",
        "y_pred=neigh.predict(test_x)\n",
        "knn_acc=accuracy_score(test_y, y_pred)\n",
        "knn_rec=recall_score(test_y, y_pred, average='weighted')\n",
        "knn_pre=precision_score(test_y, y_pred, average='weighted')\n",
        "print(\"Accuracy is \",knn_acc)\n",
        "print(\"Recall score is\",knn_rec)\n",
        "print(\"Precision score is\",knn_pre)"
      ],
      "execution_count": null,
      "outputs": [
        {
          "output_type": "stream",
          "text": [
            "Accuracy is  0.98989898989899\n",
            "Recall score is 0.98989898989899\n",
            "Precision score is 0.9899295375172568\n"
          ],
          "name": "stdout"
        }
      ]
    },
    {
      "cell_type": "markdown",
      "metadata": {
        "id": "7JIZazNo6yum"
      },
      "source": [
        "## Method 2. Linear SVM"
      ]
    },
    {
      "cell_type": "code",
      "metadata": {
        "id": "E-2pUemG6yuq",
        "colab": {
          "base_uri": "https://localhost:8080/",
          "height": 125
        },
        "outputId": "a824ffc9-d0d1-449d-e6ca-1b7052f31fe3"
      },
      "source": [
        "from sklearn.metrics import accuracy_score\n",
        "from sklearn.metrics import recall_score\n",
        "from sklearn.metrics import precision_score\n",
        "from sklearn.svm import LinearSVC\n",
        "clf = LinearSVC(random_state=0, tol=1e-5)\n",
        "clf.fit(train_x, train_y) \n",
        "y_pred=clf.predict(test_x)\n",
        "lsv_acc=accuracy_score(test_y, y_pred)\n",
        "lsv_rec=recall_score(test_y, y_pred, average='weighted')\n",
        "lsv_pre=precision_score(test_y, y_pred, average='weighted')\n",
        "print(\"Accuracy is \",lsv_acc)\n",
        "print(\"Recall score is\",lsv_rec)\n",
        "print(\"Precision score is\",lsv_pre)"
      ],
      "execution_count": null,
      "outputs": [
        {
          "output_type": "stream",
          "text": [
            "Accuracy is  0.9410774410774411\n",
            "Recall score is 0.9410774410774411\n",
            "Precision score is 0.9467401700476378\n"
          ],
          "name": "stdout"
        },
        {
          "output_type": "stream",
          "text": [
            "/usr/local/lib/python3.6/dist-packages/sklearn/svm/base.py:931: ConvergenceWarning: Liblinear failed to converge, increase the number of iterations.\n",
            "  \"the number of iterations.\", ConvergenceWarning)\n"
          ],
          "name": "stderr"
        }
      ]
    },
    {
      "cell_type": "markdown",
      "metadata": {
        "id": "rhApy03A6yu6"
      },
      "source": [
        "## Method 3. Gaussian Kernal SVM"
      ]
    },
    {
      "cell_type": "code",
      "metadata": {
        "id": "NTNbihM06yvB",
        "colab": {
          "base_uri": "https://localhost:8080/",
          "height": 70
        },
        "outputId": "169619b7-ab98-45cd-9f77-e19ce13ffc2f"
      },
      "source": [
        "from sklearn.metrics import accuracy_score\n",
        "from sklearn.metrics import recall_score\n",
        "from sklearn.metrics import precision_score\n",
        "from sklearn import svm\n",
        "clf = svm.SVC(gamma='scale')\n",
        "clf.fit(train_x, train_y) \n",
        "y_pred=clf.predict(test_x)\n",
        "gsv_acc=accuracy_score(test_y, y_pred)\n",
        "gsv_rec=recall_score(test_y, y_pred, average='weighted')\n",
        "gsv_pre=precision_score(test_y, y_pred, average='weighted')\n",
        "print(\"Accuracy is \",gsv_acc)\n",
        "print(\"Recall score is\",gsv_rec)\n",
        "print(\"Precision score is\",gsv_pre)"
      ],
      "execution_count": null,
      "outputs": [
        {
          "output_type": "stream",
          "text": [
            "Accuracy is  0.98989898989899\n",
            "Recall score is 0.98989898989899\n",
            "Precision score is 0.990141486003087\n"
          ],
          "name": "stdout"
        }
      ]
    },
    {
      "cell_type": "markdown",
      "metadata": {
        "id": "Ks4em-o96yvS"
      },
      "source": [
        "## Method 4. Naive Bayes"
      ]
    },
    {
      "cell_type": "code",
      "metadata": {
        "id": "LWMFc3ZM6yvX",
        "colab": {
          "base_uri": "https://localhost:8080/",
          "height": 70
        },
        "outputId": "9b1d61c4-1028-40b4-ad39-e3e6a8e1ccb2"
      },
      "source": [
        "from sklearn.metrics import accuracy_score\n",
        "from sklearn.metrics import recall_score\n",
        "from sklearn.metrics import precision_score\n",
        "from sklearn.naive_bayes import GaussianNB\n",
        "clf = GaussianNB()\n",
        "clf.fit(train_x, train_y) \n",
        "y_pred=clf.predict(test_x)\n",
        "nb_acc=accuracy_score(test_y, y_pred)\n",
        "nb_rec=recall_score(test_y, y_pred, average='weighted')\n",
        "nb_pre=precision_score(test_y, y_pred, average='weighted')\n",
        "print(\"Accuracy is \",nb_acc)\n",
        "print(\"Recall score is\",nb_rec)\n",
        "print(\"Precision score is\",nb_pre)"
      ],
      "execution_count": null,
      "outputs": [
        {
          "output_type": "stream",
          "text": [
            "Accuracy is  0.8164983164983165\n",
            "Recall score is 0.8164983164983165\n",
            "Precision score is 0.8492458188576237\n"
          ],
          "name": "stdout"
        }
      ]
    },
    {
      "cell_type": "markdown",
      "metadata": {
        "id": "xbW0_Vrp6yvj"
      },
      "source": [
        "## Method 5. Decision Tree"
      ]
    },
    {
      "cell_type": "code",
      "metadata": {
        "id": "4E_EWJbd6yvn",
        "colab": {
          "base_uri": "https://localhost:8080/",
          "height": 70
        },
        "outputId": "73948a69-8327-4f1f-f8bd-c8b98a3be8bc"
      },
      "source": [
        "from sklearn.metrics import accuracy_score\n",
        "from sklearn.metrics import recall_score\n",
        "from sklearn.metrics import precision_score\n",
        "from sklearn import tree\n",
        "clf = tree.DecisionTreeClassifier()\n",
        "clf.fit(train_x, train_y) \n",
        "y_pred=clf.predict(test_x)\n",
        "dt_acc=accuracy_score(test_y, y_pred)\n",
        "dt_rec=recall_score(test_y, y_pred, average='weighted')\n",
        "dt_pre=precision_score(test_y, y_pred, average='weighted')\n",
        "print(\"Accuracy is \",dt_acc)\n",
        "print(\"Recall score is\",dt_rec)\n",
        "print(\"Precision score is\",dt_pre)"
      ],
      "execution_count": null,
      "outputs": [
        {
          "output_type": "stream",
          "text": [
            "Accuracy is  0.8501683501683501\n",
            "Recall score is 0.8501683501683501\n",
            "Precision score is 0.8501836020527007\n"
          ],
          "name": "stdout"
        }
      ]
    },
    {
      "cell_type": "markdown",
      "metadata": {
        "id": "UkUJktbz6yvy"
      },
      "source": [
        "## Method 6. Random Forest"
      ]
    },
    {
      "cell_type": "code",
      "metadata": {
        "id": "fg8390RQ6yv2",
        "colab": {
          "base_uri": "https://localhost:8080/",
          "height": 70
        },
        "outputId": "b3ffd6cb-ac90-45f6-933d-56a314fb34d1"
      },
      "source": [
        "from sklearn.metrics import accuracy_score\n",
        "from sklearn.metrics import recall_score\n",
        "from sklearn.metrics import precision_score\n",
        "from sklearn.ensemble import RandomForestClassifier\n",
        "clf = RandomForestClassifier(n_estimators=100, max_depth=2,random_state=0)\n",
        "clf.fit(train_x, train_y) \n",
        "y_pred=clf.predict(test_x)\n",
        "rf_acc=accuracy_score(test_y, y_pred)\n",
        "rf_rec=recall_score(test_y, y_pred, average='weighted')\n",
        "rf_pre=precision_score(test_y, y_pred, average='weighted')\n",
        "print(\"Accuracy is \",rf_acc)\n",
        "print(\"Recall score is\",rf_rec)\n",
        "print(\"Precision score is\",rf_pre)"
      ],
      "execution_count": null,
      "outputs": [
        {
          "output_type": "stream",
          "text": [
            "Accuracy is  0.8215488215488216\n",
            "Recall score is 0.8215488215488216\n",
            "Precision score is 0.8329881917200058\n"
          ],
          "name": "stdout"
        }
      ]
    },
    {
      "cell_type": "markdown",
      "metadata": {
        "collapsed": true,
        "id": "GOPEQGh36ywB"
      },
      "source": [
        "## Method 7. Voting Classifier"
      ]
    },
    {
      "cell_type": "code",
      "metadata": {
        "id": "DbK9qBEl6ywF",
        "colab": {
          "base_uri": "https://localhost:8080/",
          "height": 125
        },
        "outputId": "05818a1f-ce39-4a4f-b73c-b73a1629d260"
      },
      "source": [
        "from sklearn.metrics import accuracy_score\n",
        "from sklearn.metrics import recall_score\n",
        "from sklearn.metrics import precision_score\n",
        "from sklearn.linear_model import LogisticRegression\n",
        "from sklearn.naive_bayes import GaussianNB\n",
        "from sklearn.ensemble import RandomForestClassifier, VotingClassifier\n",
        "clf1 = LogisticRegression(solver='lbfgs', multi_class='multinomial',random_state=1)\n",
        "clf2 = RandomForestClassifier(n_estimators=50, random_state=1)\n",
        "clf3 = GaussianNB()\n",
        "eclf1 = VotingClassifier(estimators=[('lr', clf1), ('rf', clf2), ('gnb', clf3)], voting='hard')\n",
        "eclf1 = eclf1.fit(train_x, train_y) \n",
        "y_pred=eclf1.predict(test_x)\n",
        "vc_acc=accuracy_score(test_y, y_pred)\n",
        "vc_rec=recall_score(test_y, y_pred, average='weighted')\n",
        "vc_pre=precision_score(test_y, y_pred, average='weighted')\n",
        "print(\"Accuracy is \",vc_acc)\n",
        "print(\"Recall score is\",vc_rec)\n",
        "print(\"Precision score is\",vc_pre)"
      ],
      "execution_count": null,
      "outputs": [
        {
          "output_type": "stream",
          "text": [
            "Accuracy is  0.9764309764309764\n",
            "Recall score is 0.9764309764309764\n",
            "Precision score is 0.9767774449592631\n"
          ],
          "name": "stdout"
        },
        {
          "output_type": "stream",
          "text": [
            "/usr/local/lib/python3.6/dist-packages/sklearn/linear_model/logistic.py:758: ConvergenceWarning: lbfgs failed to converge. Increase the number of iterations.\n",
            "  \"of iterations.\", ConvergenceWarning)\n"
          ],
          "name": "stderr"
        }
      ]
    },
    {
      "cell_type": "markdown",
      "metadata": {
        "collapsed": true,
        "id": "OFdLN11y6ywW"
      },
      "source": [
        "## Method 8. Bagging"
      ]
    },
    {
      "cell_type": "code",
      "metadata": {
        "id": "lWdUYV6J6ywa",
        "colab": {
          "base_uri": "https://localhost:8080/",
          "height": 70
        },
        "outputId": "354333a2-de18-46ab-c326-894f1ef6abe3"
      },
      "source": [
        "from sklearn.metrics import accuracy_score\n",
        "from sklearn.metrics import recall_score\n",
        "from sklearn.metrics import precision_score\n",
        "from sklearn.ensemble import BaggingClassifier\n",
        "from sklearn.neighbors import KNeighborsClassifier\n",
        "bagging = BaggingClassifier(KNeighborsClassifier(),max_samples=0.5, max_features=0.5)\n",
        "bagging.fit(train_x, train_y) \n",
        "y_pred=bagging.predict(test_x)\n",
        "b_acc=accuracy_score(test_y, y_pred)\n",
        "b_rec=recall_score(test_y, y_pred, average='weighted')\n",
        "b_pre=precision_score(test_y, y_pred, average='weighted')\n",
        "print(\"Accuracy is \",b_acc)\n",
        "print(\"Recall score is\",b_rec)\n",
        "print(\"Precision score is\",b_pre)"
      ],
      "execution_count": null,
      "outputs": [
        {
          "output_type": "stream",
          "text": [
            "Accuracy is  0.9814814814814815\n",
            "Recall score is 0.9814814814814815\n",
            "Precision score is 0.981831064354132\n"
          ],
          "name": "stdout"
        }
      ]
    },
    {
      "cell_type": "markdown",
      "metadata": {
        "collapsed": true,
        "id": "L1kojxaB6ywq"
      },
      "source": [
        "## Step 3: Accuracy Results Table (<mark>8 points</mark>)"
      ]
    },
    {
      "cell_type": "markdown",
      "metadata": {
        "collapsed": true,
        "id": "Ubr7TfSz6ywt"
      },
      "source": [
        "<table>\n",
        "    <thead>\n",
        "        <tr>\n",
        "            <th></th>\n",
        "            <th>KNN</th>\n",
        "            <th>L_SVM</th>\n",
        "            <th>RBF_SVM</th>\n",
        "            <th>NB</th>\n",
        "            <th>DT</th>\n",
        "            <th>RF</th>\n",
        "            <th>Voting</th>\n",
        "            <th>Bagging</th>\n",
        "        </tr>\n",
        "    </thead>\n",
        "    <tbody>\n",
        "        <tr>\n",
        "            <td>Accuracy</td>\n",
        "            <td></td>\n",
        "            <td></td>\n",
        "            <td></td>\n",
        "            <td></td>\n",
        "            <td></td>\n",
        "            <td></td>\n",
        "            <td></td>\n",
        "            <td></td>\n",
        "        </tr>\n",
        "        <tr>\n",
        "            <td>Weighted Precision</td>\n",
        "            <td></td>\n",
        "            <td></td>\n",
        "            <td></td>\n",
        "            <td></td>\n",
        "            <td></td>\n",
        "            <td></td>\n",
        "            <td></td>\n",
        "            <td></td>\n",
        "        </tr>\n",
        "        <tr>\n",
        "            <td>Weighted Recall</td>\n",
        "            <td></td>\n",
        "            <td></td>\n",
        "            <td></td>\n",
        "            <td></td>\n",
        "            <td></td>\n",
        "            <td></td>\n",
        "            <td></td>\n",
        "        </tr>\n",
        "    </tbody>\n",
        "</table>"
      ]
    },
    {
      "cell_type": "code",
      "metadata": {
        "id": "JcPnPCV36yw6",
        "colab": {
          "base_uri": "https://localhost:8080/",
          "height": 105
        },
        "outputId": "2a7f94e4-bc98-40d0-e8fa-5cc716c06402"
      },
      "source": [
        "from tabulate import tabulate\n",
        "print(tabulate([['Accuracy ', knn_acc,lsv_acc,gsv_acc,nb_acc,dt_acc,rf_acc,vc_acc,b_acc], ['Weighted Precision', knn_pre,lsv_pre,gsv_pre,nb_pre,dt_pre,rf_pre,vc_pre,b_pre] ,['Weighted Recall', knn_rec,lsv_rec,gsv_rec,nb_rec,dt_rec,rf_rec,vc_rec,b_rec]], headers=['  ','KNN','L_SVM','RBF_SVM' ,'NB', 'DT','RF','Voting','Bagging']))"
      ],
      "execution_count": null,
      "outputs": [
        {
          "output_type": "stream",
          "text": [
            "                         KNN     L_SVM    RBF_SVM        NB        DT        RF    Voting    Bagging\n",
            "------------------  --------  --------  ---------  --------  --------  --------  --------  ---------\n",
            "Accuracy            0.941077  0.941077   0.989899  0.816498  0.850168  0.821549  0.976431   0.981481\n",
            "Weighted Precision  0.94674   0.94674    0.990141  0.849246  0.850184  0.832988  0.976777   0.981831\n",
            "Weighted Recall     0.941077  0.941077   0.989899  0.816498  0.850168  0.821549  0.976431   0.981481\n"
          ],
          "name": "stdout"
        }
      ]
    },
    {
      "cell_type": "markdown",
      "metadata": {
        "id": "g_l_TdDS6ywy"
      },
      "source": [
        "## Step 4: Conclusion (<mark>2 Points</mark>)"
      ]
    },
    {
      "cell_type": "code",
      "metadata": {
        "id": "t6TNXPTL6yxG"
      },
      "source": [
        "It is found that gaussian svm has got higher accuracy and bagging has also got almost same accuracy\n",
        "It is found that gaussian svm has got higher weighted precision\n",
        "It is found that gaussian svm has got higher weighted recall"
      ],
      "execution_count": null,
      "outputs": []
    },
    {
      "cell_type": "code",
      "metadata": {
        "id": "-nSs6WjA6yxQ"
      },
      "source": [
        ""
      ],
      "execution_count": null,
      "outputs": []
    },
    {
      "cell_type": "code",
      "metadata": {
        "id": "fB_E7stP6yxb"
      },
      "source": [
        ""
      ],
      "execution_count": null,
      "outputs": []
    }
  ]
}